{
 "cells": [
  {
   "cell_type": "code",
   "execution_count": 1,
   "id": "6f52d31d",
   "metadata": {},
   "outputs": [],
   "source": [
    "import cv2 # computer vision tasks such as image and video processing, object detection\n",
    "import time # measuring time intervals, delaying execution, and working with timestamps\n",
    "import numpy as np # numerical operations"
   ]
  },
  {
   "cell_type": "code",
   "execution_count": 2,
   "id": "ed5941b7",
   "metadata": {},
   "outputs": [],
   "source": [
    "# Preparation for writing the ouput video\n",
    "\n",
    "fourcc = cv2.VideoWriter_fourcc(*'XVID')  # for encoding or decoding a video file\n",
    "out = cv2.VideoWriter('output.avi', fourcc, 20.0, (640, 480)) # encode video frames using fourcc, frame rate of 20 frames per second and a frame size 640x480 pixels and save as 'output.avi'\n",
    "\n",
    "#reading from the webcam\n",
    "\n",
    "cap = cv2.VideoCapture(0) # capture video frames from a device's camera\n",
    "\n",
    "# Allow the system to sleep for 3 seconds before the webcam starts\n",
    "\n",
    "time.sleep(3) # Suspends execution for 3 seconds before continueing next line"
   ]
  },
  {
   "cell_type": "code",
   "execution_count": null,
   "id": "5e03a283",
   "metadata": {},
   "outputs": [],
   "source": [
    "count = 0\n",
    "background = 0\n",
    "\n",
    "# Capture the background in range of 60\n",
    "for i in range(60):\n",
    "    ret, background = cap.read() # Read a single frame from the camera\n",
    "background = np.flip(background, axis=1) # flips the background array horizontally using NumPy's flip() function, reducing lateral inversion, provides mirror image\n",
    "while (cap.isOpened()): # check if a VideoCapture object is open and able to capture frames from a video source\n",
    "    ret, img = cap.read()\n",
    "    if not ret: # ret is a Boolean value that indicates whether the frame was successfully read\n",
    "        break\n",
    "    count += 1\n",
    "    img = np.flip(img, axis=1)\n",
    "\n",
    "    # Convert the color space from BGR to HSV (Hue, Saturation, Value)\n",
    "    hsv = cv2.cvtColor(img, cv2.COLOR_BGR2HSV)\n",
    "\n",
    "    # Generat masks to detect red color\n",
    "    lower_red = np.array([0, 120, 50]) # lower threshold values for the red color range in the HSV color space\n",
    "    upper_red = np.array([10, 255,255]) #  upper threshold values for the red color range in the HSV color space\n",
    "    mask1 = cv2.inRange(hsv, lower_red, upper_red) # creates a binary mask \n",
    "\n",
    "    lower_red = np.array([170, 120, 70])\n",
    "    upper_red = np.array([180, 255, 255])\n",
    "    mask2 = cv2.inRange(hsv, lower_red, upper_red)\n",
    "\n",
    "    mask1 = mask1 + mask2\n",
    "\n",
    "    # Open and Dilate the mask image\n",
    "    mask1 = cv2.morphologyEx(mask1, cv2.MORPH_OPEN, np.ones((3, 3), np.uint8)) #  morphological opening to the mask1 binary mask using a 3x3 kernel\n",
    "    mask1 = cv2.morphologyEx(mask1, cv2.MORPH_DILATE, np.ones((3, 3), np.uint8)) # Morphological dilation expands the white regions in the binary mask, making them larger and more connected\n",
    "\n",
    "    # Create an inverted mask to segment out the red color from the frame\n",
    "    mask2 = cv2.bitwise_not(mask1) # it converts white pixels to black and black pixels to white\n",
    "\n",
    "    # Segment the red color part out of the frame using bitwise and with the inverted mask\n",
    "    res1 = cv2.bitwise_and(img, img, mask=mask2)\n",
    "\n",
    "    # Create image showing static background frame pixels only for the masked region\n",
    "    res2 = cv2.bitwise_and(background, background, mask=mask1)\n",
    "\n",
    "    # Generating the final output and writing\n",
    "    finalOutput = cv2.addWeighted(res1, 1, res2, 1, 0) # combines two images res1 and res2\n",
    "    out.write(finalOutput)\n",
    "    cv2.imshow(\"magic\", finalOutput)\n",
    "    cv2.waitKey(1)\n",
    "cap.release()\n",
    "out.release()\n",
    "cv2.destroyAllWindows() # close and destroy all the windows"
   ]
  },
  {
   "cell_type": "code",
   "execution_count": null,
   "id": "abf73b69",
   "metadata": {},
   "outputs": [],
   "source": []
  }
 ],
 "metadata": {
  "kernelspec": {
   "display_name": "Python 3",
   "language": "python",
   "name": "python3"
  },
  "language_info": {
   "codemirror_mode": {
    "name": "ipython",
    "version": 3
   },
   "file_extension": ".py",
   "mimetype": "text/x-python",
   "name": "python",
   "nbconvert_exporter": "python",
   "pygments_lexer": "ipython3",
   "version": "3.8.8"
  }
 },
 "nbformat": 4,
 "nbformat_minor": 5
}
